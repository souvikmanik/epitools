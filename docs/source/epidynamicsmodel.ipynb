{
 "cells": [
  {
   "cell_type": "markdown",
   "id": "d3d9d44e",
   "metadata": {},
   "source": [
    "# Tutorial for Epidemic Dynamics Modelling\n",
    "\n",
    "**Authors:** Souvik Manik, Sabyasachi Pal, Manoj Mandal\n",
    "\n",
    "**Prerequisites:** Epitools, Numpy, Pandas, sklearn, matplotlib "
   ]
  },
  {
   "cell_type": "markdown",
   "id": "811737b6",
   "metadata": {},
   "source": [
    "**Description:** ``EpiDynamicsModel`` class of our package can be used for efficient modelling and prediction of epidemic scenarios. For the epidemic dynamics modelling, we proposed a two-step modelling procedure where, in the first step, time-dependent transmission coefficients ($\\beta, \\gamma, \\delta$) and effective reproduction number ($R_t$) are computed directly from the real-time data, and in the second step, numerical statistics of those models are used for fitting models to forecast future movements of various driving parameters. We also implimented time-dependent contact rate with different decay functions (``polynomial, exponential, power, tanh, and logistic``) for those dynamics models (``SIR, SIRD, SEIR, SEIRD``) to fit real-time data during any interventions from when the transmission is decaying . ``estimate_tc`` class can be used to estimate real-time transmission coefficients and reproduction numbers from epidemic data. Moreover, $estimate_r$ class can also be used to estimate $R_t$ from infected data using the Kalman filtering technique.\n",
    "\n",
    "![title](covid_model.png)\n",
    "\n",
    "## Available epidemiological models in ``Epitools``\n",
    "\n",
    "### SIR model\n",
    "\n",
    " To study the transmission of infectious diseases into a large number of people, there are several models. The most basic compartmental model for explaining the evolution of an outbreak at the population level is the Susceptible-Infected-Recovered (SIR) model. When the maternal antibodies no longer exist in the body, the infant is classified as susceptible ($S$). When a susceptible person comes into enough contact with an infective to facilitate transmission, the person is categorized as a member of an infected class ($I$), which means they are infectious and they may transmit the virus. When the infection period ends, the individual enters the recovered class ($R$), which consists of those who have infection-acquired immunity.\n",
    "\n",
    " The classic SIR model assume that the infected ($I$) and susceptible ($S$) populations are homogeneously mixed and the total population $N$ remains constant over the study. Also, the susceptible population ($S$) in the SIR model drops monotonically towards zero. It is assumed that the SIR model's time scale is short enough that non-virus-related births and deaths may be ignored and that the number of virus-related fatalities is modest in contrast to the entire population.\n",
    " \n",
    "SIR model can be used to investigate various epidemic driving factors such as recovery rate ($\\gamma$), contact rate ($\\beta$), and effective reproduction number ($\\mathbb{R})$. At any given time $t$, let $S(t)$ (total population -- confirmed), $I(t)$ (confirmed -- recovered -- deceased), and $R(t)$ (recovered + deceased) be the total number of susceptible individuals, infected individuals, and recovered individuals, respectively.\n",
    "\n",
    "These parameters can be expressed in fractional form as:\n",
    "$$\n",
    "s(t)=\\frac{S(t)}{N}, i(t)=\\frac{I(t)}{N}, r(t)=\\frac{R(t)}{N}\n",
    "$$\n",
    "From the conservation law,\n",
    "$$\n",
    "s(t)+i(t)+r(t)=1 \n",
    "$$     \n",
    "The SIR model is represented by the following set of differential equations:\n",
    "$$\n",
    "\\frac{ds(t)}{dt} =  -\\beta(t) s(t) i(t)   \n",
    "$$\n",
    "$$\n",
    "\\frac{di(t)}{dt} = \\beta(t) s(t) i(t) - \\gamma(t) i(t)  \n",
    "$$\n",
    "$$\n",
    "\\frac{dr(t)}{dt} = \\gamma(t) i(t)     \n",
    "$$\n",
    "We can write from equation 4,\n",
    "$$\n",
    "\\beta_n = \\frac{1}{s_n i_n }[i_{n+1} - (1- \\gamma_n )i_n ]\n",
    "$$\n",
    "The effective reproduction number $\\mathbb{R}_t$ can be computed from this equation. \n",
    "$$\n",
    "\\mathbb{R}_t = \\frac{\\beta_n}{\\gamma_n} \n",
    "$$ \n",
    "\t\t\n",
    "The variation of recovery rate ($\\gamma_n$), contact rate ($\\beta_n$), and effective reproduction number ($\\mathbb{R}_t$ can be studied using {\\tt Epitools}).\n",
    "\n",
    "### SIRD model\n",
    "\n",
    "The Susceptible-Infectious-Recovered-Deceased (SIRD) is a modified version of  SIR model, with separate compartments for deceased and recovered individuals. At any given time $t$, $S(t) $(total population---confirmed), $I(t) $(confirmed---recovered---deaths), $R(t)$(recovered), and $D(t) $(deaths) represent the total number of susceptible, infected, and recovered individuals, respectively, and $N$ represents the total population, which is assumed to remain constant throughout the study. Using this model, we have fitted the epidemic data and also computed time-dependent transmission coefficients, i.e., the recovery rate ($\\gamma_n$), contact rate ($\\beta_n$), mortality rate ($\\delta_n$), and effective reproduction number ($\\mathbb{R}_t$).  \n",
    "               \n",
    "$s(t)$, $i(t)$, $r(t)$ and $d(t)$ can be expressed in fractional form:\n",
    "$$\n",
    "s(t)=\\frac{S(t)}{N}, i(t)=\\frac{I(t)}{N}, r(t)=\\frac{R(t)}{N}, d(t)=\\frac{D(t)}{N}\n",
    "$$\n",
    "From the conservation law,\n",
    "$$\n",
    "s(t)+i(t)+r(t)+d(t)=1 \n",
    "$$\n",
    "The SIRD model can be expressed by following a set of differential equations.\n",
    "$$\n",
    "\\frac{ds(t)}{dt} =  -\\beta(t) s(t) i(t)   \n",
    "$$\n",
    "$$\n",
    "\\frac{di(t)}{dt} = \\beta(t) s(t) i(t) - [\\gamma(t)+\\alpha(t)] i(t)  \n",
    "$$\n",
    "$$\n",
    "\\frac{dr(t)}{dt} = \\gamma(t) i(t)     \n",
    "$$\n",
    "$$\n",
    "\\frac{dd(t)}{dt} = \\alpha(t) i(t)     \n",
    "$$\n",
    "From equation 11, we may write\n",
    "$$\n",
    "\\beta_n = \\frac{1}{s_n i_n }[i_{n+1} + (\\gamma_n + \\alpha_n - 1)i_{n}]% + (\\sigma - 1)(\\gamma_n - 1)i_n]\n",
    "$$\n",
    "The effective reproduction number $\\mathbb{R}_t$ can be expressed as\n",
    "$$\n",
    "\\mathbb{R}_t = \\frac{\\beta_n}{\\gamma_n+\\alpha_n} \n",
    "$$\n",
    "\n",
    "\n",
    "### SEIR model\n",
    "The Susceptible-Exposed-Infectious-Removed (SEIR) class of models are some of the widely studied ones. As an epidemic spreads, at a certain time $t$, let $S (t) $, $E (t) $, $I (t) $, and $R(t)$ be the total number of susceptible, exposed, infected, and removed individuals (recovered or deceased), respectively, and let $N$ represent the total population, which is assumed to remain constant throughout the study. In the SEIR model, the exposed compartment is an extension of the SIR model. The inclusion of exposed individuals ($E$) in the SEIR model improves the model's efficiency. An epidemic spreads when  susceptible person interact with an infectious person, after that the susceptible enters the exposed compartment ($E$) of those infected but not yet infectious during the latent phase 1/$\\sigma$. At the end of the latent phase, the individual enters the compartment ($I$) and is capable of transmitting the infection. After the infection phase is over, the individuals enter compartment $R$. Here, $\\beta_n$, $\\gamma_n$, and $\\mathbb{R}_t$ are the effective contact rate, recovery rate, and effective reproduction number of the epidemic, respectively. The model assumes that recovered individuals from the disease cannot become susceptible again. Using the SEIR model, one can estimate different time-dependent driving parameters from epidemic data with the help of {\\tt Epitools} using the average incubation period of $1/\\sigma$ (= 7) as a constant.\n",
    "\n",
    "$s(t)$, $e(t)$, $i(t)$ and $r(t)$ can be expressed in fractional form: \\\\\n",
    "$$\n",
    "s(t)=\\frac{S(t)}{N}, e(t)=\\frac{E(t)}{N},  i(t)=\\frac{I(t)}{N}, r(t)=\\frac{R(t)}{N}\n",
    "$$\n",
    "From the conservation law, we may write:\n",
    "$$\n",
    "s(t)+e(t)+i(t)+r(t)=1 \n",
    "$$\n",
    "The SEIR model can be expressed by following a set of differential equations\n",
    "$$\n",
    "\\frac{ds(t)}{dt} =  -\\beta(t) s(t) i(t)   \n",
    "$$\n",
    "$$\n",
    "\\frac{de(t)}{dt} =  \\beta(t) s(t) i(t)  - \\sigma e(t)   \n",
    "$$\n",
    "$$\n",
    "\\frac{di(t)}{dt} = \\sigma e(t) - \\gamma(t) i(t)  \n",
    "$$\n",
    "$$\n",
    "\\frac{dr(t)}{dt} = \\gamma(t) i(t)     \n",
    "$$\n",
    "Now we use equation (19) to find $\\beta_n$  \n",
    "$$\n",
    "\\beta_n = \\frac{e_{n+1}-e_n+\\sigma e_n}{s_ni_n}  \n",
    "$$\n",
    "Using equations 19, 20, and 22 we can write \\\\\n",
    "$$\n",
    "\\label{23}\n",
    "\\beta_n = \\frac{1}{s_n i_n \\sigma}[i_{n+2} + (\\gamma_n + \\sigma - 2)i_{n+1} + (\\sigma - 1)(\\gamma_n - 1)i_n]\n",
    "$$\n",
    "The effective reproduction number $\\mathbb{R}_t$ can be expressed from this equation.\n",
    "$$\n",
    "\\label{24}\n",
    "\\mathbb{R}_t = \\frac{\\beta_n}{\\gamma_n} \n",
    "$$ \n",
    "\n",
    "### SEIRD model\n",
    "\n",
    "The Susceptible-Exposed-Infected-Recovered-Deceased (SEIRD) model is the extended version of the SEIR model. At any time $t$, $S(t)$ be the total number of susceptible individuals, $E(t)$ be the total number of exposed individuals, $I(t)$ be the total number of infected individuals, $R(t)$ be the total number of recovered individuals, and $D(t)$ be the total number of deceased individuals from the epidemic. In the SEIRD model, we have considered the average incubation period $1/\\sigma$ to be a constant. We presume that the individuals who recovered from the disease will not become susceptible again. The exposed ($E$) compartment in the SEIRD model is an extension of the SIRD model. The susceptible ($S$) moves into the exposed compartment ($E$) when a susceptible individual comes across significant interaction with an infective individual ($I$). The individual enters class $I$ at end of latent phase and becomes capable of spreading the infection. Finally, at the end of the infectious time, the person moves to either the recovered compartment $R$ or the deceased compartment $D$.\n",
    "\n",
    "The parameter $\\beta$ is the product of the average number of contacts per person and per unit of time by the probability of disease transmission in contact between susceptible and infectious individuals. $\\gamma$ is the recovery rate, and $\\delta$ is the mortality rate. The compartment $E$ of the exposed individuals in the SEIRD model makes the model slightly more delicate.\n",
    "\n",
    "The SEIRD model is used widely to understand transmission dynamics of infectious diseases over large population. If $N$ is the total population size, then in fraction form\n",
    "$$\n",
    "s(t)=\\frac{S(t)}{N}, e(t)=\\frac{E(t)}{N}, i(t)=\\frac{I(t)}{N}, r(t)=\\frac{R(t)}{N}, d(t)=\\frac{D(t)}{N}\n",
    "$$\n",
    "From the total number of individuals conservation, we have the relation\\\\\n",
    "$$\n",
    "s(t)+e(t)+i(t)+r(t)+d(t)=1\n",
    "$$\n",
    "These quantities change by discrete amounts but if the minimal possible change is relatively low, we can consider $s(t)$, $i(t)$, $r(t)$, and $d(t)$ as differentiable functions.\n",
    " For any time $t \\geq 0$, the SEIRD model can be  expressed by the differential equations\n",
    "$$\n",
    "\\frac{ds(t)}{dt} =  -\\beta(t) s(t) i(t)   \n",
    "$$\n",
    "$$\n",
    "\\frac{de(t)}{dt} =  \\beta(t) s(t) i(t)  - \\sigma e(t)   $$\n",
    "$$\n",
    "\\frac{di(t)}{dt} = \\sigma e(t) - [\\gamma(t) + \\delta(t)]i(t)\n",
    "$$\n",
    "$$\n",
    "\\frac{dr(t)}{dt} = \\gamma(t) i(t)     \n",
    "$$\n",
    "$$\n",
    "\\frac{dd(t)}{dt} = \\delta(t) i(t)  \n",
    "$$\n",
    "\n",
    "We use the discrete form of equations (13) to (17).\n",
    "\n",
    "We use equation (14) to find $\\beta_n$  \n",
    "$$\n",
    "\\beta_n = \\frac{e_{n+1}-e_n+\\sigma e_n}{s_ni_n}  \n",
    "$$\n",
    "\n",
    "We use equation (16) to find $\\gamma_n$\n",
    "$$\n",
    "\\gamma_n = \\frac{r_{n+1}-r_n}{i_n} \n",
    "$$\n",
    "\n",
    "Now we use equation (17) to find $\\delta_n$\n",
    "$$\n",
    "\\delta_n = \\frac{d_{n+1}-d_n}{i_n} \n",
    "$$\n",
    "\n",
    "The effective reproduction number $\\mathbb{R}_t$ can be given by \n",
    " $$\n",
    "  \\mathbb{R}_t = \\frac{\\beta_n}{\\gamma_n+\\delta_n} \n",
    "$$"
   ]
  },
  {
   "cell_type": "markdown",
   "id": "9a1ce14d",
   "metadata": {},
   "source": [
    "**Let's import all the essential libraries first**"
   ]
  },
  {
   "cell_type": "code",
   "execution_count": 1,
   "id": "451874ec",
   "metadata": {},
   "outputs": [
    {
     "name": "stderr",
     "output_type": "stream",
     "text": [
      "<frozen importlib._bootstrap>:228: RuntimeWarning: scipy._lib.messagestream.MessageStream size changed, may indicate binary incompatibility. Expected 56 from C header, got 64 from PyObject\n"
     ]
    }
   ],
   "source": [
    "#import essential libratries\n",
    "import pandas as pd \n",
    "from matplotlib import dates as mdates\n",
    "import matplotlib.pyplot as plt\n",
    "import numpy as np\n",
    "import pandas as pd\n",
    "from epitools.estimate_tc import tcoeff\n",
    "from sklearn.metrics import r2_score\n",
    "from epitools.optimizer import Minimizer"
   ]
  },
  {
   "cell_type": "code",
   "execution_count": 2,
   "id": "d6742440",
   "metadata": {
    "scrolled": true
   },
   "outputs": [
    {
     "data": {
      "text/html": [
       "<div>\n",
       "<style scoped>\n",
       "    .dataframe tbody tr th:only-of-type {\n",
       "        vertical-align: middle;\n",
       "    }\n",
       "\n",
       "    .dataframe tbody tr th {\n",
       "        vertical-align: top;\n",
       "    }\n",
       "\n",
       "    .dataframe thead th {\n",
       "        text-align: right;\n",
       "    }\n",
       "</style>\n",
       "<table border=\"1\" class=\"dataframe\">\n",
       "  <thead>\n",
       "    <tr style=\"text-align: right;\">\n",
       "      <th></th>\n",
       "      <th>Unnamed: 0</th>\n",
       "      <th>date</th>\n",
       "      <th>Confirmed</th>\n",
       "      <th>Recovered</th>\n",
       "      <th>Death</th>\n",
       "    </tr>\n",
       "  </thead>\n",
       "  <tbody>\n",
       "    <tr>\n",
       "      <th>0</th>\n",
       "      <td>2021-02-01</td>\n",
       "      <td>2021-02-01</td>\n",
       "      <td>10766245</td>\n",
       "      <td>10448406</td>\n",
       "      <td>154486</td>\n",
       "    </tr>\n",
       "    <tr>\n",
       "      <th>1</th>\n",
       "      <td>2021-02-02</td>\n",
       "      <td>2021-02-02</td>\n",
       "      <td>10777284</td>\n",
       "      <td>10462631</td>\n",
       "      <td>154596</td>\n",
       "    </tr>\n",
       "    <tr>\n",
       "      <th>2</th>\n",
       "      <td>2021-02-03</td>\n",
       "      <td>2021-02-03</td>\n",
       "      <td>10790183</td>\n",
       "      <td>10480455</td>\n",
       "      <td>154703</td>\n",
       "    </tr>\n",
       "    <tr>\n",
       "      <th>3</th>\n",
       "      <td>2021-02-04</td>\n",
       "      <td>2021-02-04</td>\n",
       "      <td>10802591</td>\n",
       "      <td>10496308</td>\n",
       "      <td>154823</td>\n",
       "    </tr>\n",
       "  </tbody>\n",
       "</table>\n",
       "</div>"
      ],
      "text/plain": [
       "   Unnamed: 0        date  Confirmed  Recovered   Death\n",
       "0  2021-02-01  2021-02-01   10766245   10448406  154486\n",
       "1  2021-02-02  2021-02-02   10777284   10462631  154596\n",
       "2  2021-02-03  2021-02-03   10790183   10480455  154703\n",
       "3  2021-02-04  2021-02-04   10802591   10496308  154823"
      ]
     },
     "execution_count": 2,
     "metadata": {},
     "output_type": "execute_result"
    }
   ],
   "source": [
    "#read the epidemic data, here we are using a test data hosted on github\n",
    "df = pd.read_csv('https://raw.githubusercontent.com/souvikmanik/covid_data/main/india.csv')\n",
    "df.head(4)"
   ]
  },
  {
   "cell_type": "markdown",
   "id": "adbd03f8",
   "metadata": {},
   "source": [
    "## Two-step aproach for epidemiological modeling using ``Epitools``\n",
    "### 1. Estimation of real-time transmission coefficients and reproduction numbers from epidemic data using ``estimate_tc`` class"
   ]
  },
  {
   "cell_type": "markdown",
   "id": "03f9655a",
   "metadata": {},
   "source": [
    "``estimate_tc`` take timeseries dataframe with should consist of Date, Confirmed, Recovered, \n",
    "       Death columns. So we first change the columnname of our data as ``estimate_tc`` wants."
   ]
  },
  {
   "cell_type": "code",
   "execution_count": 3,
   "id": "45b5c0f5",
   "metadata": {},
   "outputs": [
    {
     "data": {
      "text/html": [
       "<div>\n",
       "<style scoped>\n",
       "    .dataframe tbody tr th:only-of-type {\n",
       "        vertical-align: middle;\n",
       "    }\n",
       "\n",
       "    .dataframe tbody tr th {\n",
       "        vertical-align: top;\n",
       "    }\n",
       "\n",
       "    .dataframe thead th {\n",
       "        text-align: right;\n",
       "    }\n",
       "</style>\n",
       "<table border=\"1\" class=\"dataframe\">\n",
       "  <thead>\n",
       "    <tr style=\"text-align: right;\">\n",
       "      <th></th>\n",
       "      <th>Unnamed: 0</th>\n",
       "      <th>Date</th>\n",
       "      <th>Confirmed</th>\n",
       "      <th>Recovered</th>\n",
       "      <th>Death</th>\n",
       "    </tr>\n",
       "  </thead>\n",
       "  <tbody>\n",
       "    <tr>\n",
       "      <th>0</th>\n",
       "      <td>2021-02-01</td>\n",
       "      <td>2021-02-01</td>\n",
       "      <td>10766245</td>\n",
       "      <td>10448406</td>\n",
       "      <td>154486</td>\n",
       "    </tr>\n",
       "    <tr>\n",
       "      <th>1</th>\n",
       "      <td>2021-02-02</td>\n",
       "      <td>2021-02-02</td>\n",
       "      <td>10777284</td>\n",
       "      <td>10462631</td>\n",
       "      <td>154596</td>\n",
       "    </tr>\n",
       "  </tbody>\n",
       "</table>\n",
       "</div>"
      ],
      "text/plain": [
       "   Unnamed: 0        Date  Confirmed  Recovered   Death\n",
       "0  2021-02-01  2021-02-01   10766245   10448406  154486\n",
       "1  2021-02-02  2021-02-02   10777284   10462631  154596"
      ]
     },
     "execution_count": 3,
     "metadata": {},
     "output_type": "execute_result"
    }
   ],
   "source": [
    "df=df.rename(columns={\"date\": \"Date\"})\n",
    "df.head(2)"
   ]
  },
  {
   "cell_type": "markdown",
   "id": "2836b1e6",
   "metadata": {},
   "source": [
    "``tcoeff`` class have two methods/functions\n",
    "\n",
    "1. ``get_tcoeff``, which can be used to estimate real time transmission coefficients and effective reproduction number, $R_t$ from the epidemic timeseries.It can be executed as follows.\n",
    "2. ``numstats``, which can be used to find a tabulated numerial statistics from the output of ``get_tcoeff``"
   ]
  },
  {
   "cell_type": "code",
   "execution_count": 4,
   "id": "1729d9bf",
   "metadata": {},
   "outputs": [
    {
     "name": "stdout",
     "output_type": "stream",
     "text": [
      "         Date      beta     gamma        Rt     delta\n",
      "1  2021-02-02  0.068969  0.088875  0.770073  0.000687\n",
      "2  2021-02-03  0.083206  0.114975  0.719369  0.000690\n"
     ]
    }
   ],
   "source": [
    "tc = tcoeff(df)\n",
    "\n",
    "\"\"\"\n",
    "usage: get_tcoeff(model), where model is the available models in epitools \n",
    "to estimate real time transmission coefficients and effective reproduction \n",
    "number, 𝑅𝑡 from the epidemic timeseries. \n",
    "Available models: SIR, SIRD, SEIR, SEIRD\n",
    "**for SEIR/SEIRD model you have to provide an additional constant argument as incubation period, 𝜎. \n",
    "for more details refer to:\n",
    "https://doi.org/10.1016/j.envres.2022.113110\n",
    "https://doi.org/10.1007/s11071-021-07041-7\n",
    "\"\"\"\n",
    "\n",
    "da=tc.get_tcoeff(\"SIRD\")\n",
    "print(da.head(2))"
   ]
  },
  {
   "cell_type": "code",
   "execution_count": 5,
   "id": "1e819cd1",
   "metadata": {},
   "outputs": [
    {
     "name": "stdout",
     "output_type": "stream",
     "text": [
      "+---------------------------------------------------+\n",
      "|    Summary statistics of all numerical columns:   |\n",
      "+-------+----------+----------+----------+----------+\n",
      "|       |     beta |    gamma |       Rt |    delta |\n",
      "|-------+----------+----------+----------+----------|\n",
      "| count | 183      | 183      | 183      | 183      |\n",
      "| mean  |   0.1004 |   0.0949 |   1.1274 |   0.0013 |\n",
      "| std   |   0.0236 |   0.0205 |   0.4587 |   0.001  |\n",
      "| min   |   0.0634 |   0.0591 |   0.4691 |   0.0004 |\n",
      "| 25%   |   0.0815 |   0.0784 |   0.7391 |   0.0007 |\n",
      "| 50%   |   0.0946 |   0.0923 |   1.0254 |   0.001  |\n",
      "| 75%   |   0.1201 |   0.111  |   1.3768 |   0.0016 |\n",
      "| max   |   0.1931 |   0.1839 |   2.2228 |   0.0098 |\n",
      "+-------+----------+----------+----------+----------+\n",
      "Thank you for using epitools! \n",
      "-----------------------------\n"
     ]
    }
   ],
   "source": [
    "#Now let's see the numerical statistics of the output\n",
    "tc.numstats()"
   ]
  },
  {
   "cell_type": "markdown",
   "id": "425d9f15",
   "metadata": {},
   "source": [
    "Now let's do another example with incubation period sigma as 7 days with SEIRD model"
   ]
  },
  {
   "cell_type": "code",
   "execution_count": 6,
   "id": "0358de4b",
   "metadata": {},
   "outputs": [
    {
     "name": "stdout",
     "output_type": "stream",
     "text": [
      "         Date      beta     gamma        Rt     delta\n",
      "1  2021-02-02  0.068969  0.088875  0.770073  0.000687\n",
      "2  2021-02-03  0.083206  0.114975  0.719369  0.000690\n"
     ]
    }
   ],
   "source": [
    "tca = tcoeff(df)\n",
    "sigma = 7\n",
    "db = tca.get_tcoeff(\"SEIRD\",sigma)\n",
    "print(da.head(2))"
   ]
  },
  {
   "cell_type": "code",
   "execution_count": 7,
   "id": "c6a75173",
   "metadata": {},
   "outputs": [
    {
     "name": "stdout",
     "output_type": "stream",
     "text": [
      "+---------------------------------------------------+\n",
      "|    Summary statistics of all numerical columns:   |\n",
      "+-------+----------+----------+----------+----------+\n",
      "|       |     beta |    gamma |       Rt |    delta |\n",
      "|-------+----------+----------+----------+----------|\n",
      "| count | 182      | 182      | 182      | 182      |\n",
      "| mean  |   0.1138 |   0.0949 |   1.2932 |   0.0013 |\n",
      "| std   |   0.1506 |   0.0206 |   1.4399 |   0.001  |\n",
      "| min   |  -0.5763 |   0.0591 |  -6.5134 |   0.0004 |\n",
      "| 25%   |   0.0478 |   0.0783 |   0.4477 |   0.0007 |\n",
      "| 50%   |   0.0982 |   0.0924 |   1.0605 |   0.0011 |\n",
      "| 75%   |   0.178  |   0.1111 |   2.0108 |   0.0016 |\n",
      "| max   |   1.5451 |   0.1839 |   8.2836 |   0.0098 |\n",
      "+-------+----------+----------+----------+----------+\n",
      "Thank you for using epitools! \n",
      "-----------------------------\n"
     ]
    }
   ],
   "source": [
    "#Now let's see the numerical statistics of the output\n",
    "tca.numstats()"
   ]
  },
  {
   "cell_type": "markdown",
   "id": "7c7a2510",
   "metadata": {},
   "source": [
    "Let's visualize the result,"
   ]
  },
  {
   "cell_type": "markdown",
   "id": "161d7a57",
   "metadata": {},
   "source": [
    "xxxx"
   ]
  },
  {
   "cell_type": "markdown",
   "id": "3a1bd5f4",
   "metadata": {},
   "source": [
    "### 2. Fitting and prediction of Epidemic scenarios using ``EpiDynamicsModel`` class of ``Epitools``\n",
    "Let's prepare data for feeding to ``EpiDynamicsModel`` first"
   ]
  },
  {
   "cell_type": "code",
   "execution_count": 8,
   "id": "bade2de9",
   "metadata": {},
   "outputs": [],
   "source": [
    "df['removed'] = df['Death'] + df['Recovered']\n",
    "df['infected'] = df['Confirmed'] - df['removed']\n",
    "data = df[['infected','Recovered','Death']].copy()\n",
    "data = data [data['infected'] > 25]\n",
    "data = data.iloc[40:90]\n",
    "N=1391197718"
   ]
  },
  {
   "cell_type": "markdown",
   "id": "3e2cc324",
   "metadata": {},
   "source": [
    "**Now define the initial points of different parameters of models. For first example we choose SIRD model to solve, fitting and prediction.**"
   ]
  },
  {
   "cell_type": "code",
   "execution_count": 9,
   "id": "7b5053c8",
   "metadata": {},
   "outputs": [],
   "source": [
    "E0 = 3 * data.iloc[0]['infected']\n",
    "I0 = data.iloc[0]['infected']\n",
    "R0 = data.iloc[0]['Recovered']\n",
    "D0 = data.iloc[0]['Death']\n",
    "Y0={'N':N,'I0':I0,'R0':R0,'D0':D0}\n",
    "# let's define initial points and bounds for beta, gamma, delta \n",
    "starting_point = 0.01,0.01,0.01\n",
    "bounds = [(1e-5, 1.0),(1e-5, 1.0),(1e-5, 1.0)]"
   ]
  },
  {
   "cell_type": "code",
   "execution_count": 10,
   "id": "f53e231b",
   "metadata": {},
   "outputs": [
    {
     "name": "stdout",
     "output_type": "stream",
     "text": [
      "3\n",
      "INFO:root:L-BFGS-B optimization started: 2023-12-20 23:51:35.041674\n",
      "INFO:root:Elapsed time: 0.4287s\n",
      "SIRD model normalized parameters \n",
      "------------------------------------ \n",
      "\n",
      "Parameter\tValue\n",
      "---------\t-----\n",
      "gamma\t    0.07988\n",
      "delta\t    0.00087\n",
      "beta \t    0.14099\n",
      "Rt   \t    1.74588\n",
      "------------------------------------ \n",
      "Thank you for using epitools!\n"
     ]
    }
   ],
   "source": [
    "L = Minimizer ('SIRD')\n",
    "L.initialize  (starting_point,bounds,**Y0)\n",
    "optm = L.fit(data)\n",
    "params = [\"%.6f\" % x for x in L.params]\n",
    "#print(\"params [gamma,beta_0,alpha,mu,tl]:\",params,\"loss=\",\"%.3f\" % optm.fun)\n",
    "d = L.simulate()\n",
    "m = L.forecast(20)\n",
    "days=[int(i) for i in range(0, len(data))]\n",
    "#let's see the best fit parameters\n",
    "L.get_params"
   ]
  },
  {
   "cell_type": "code",
   "execution_count": 11,
   "id": "92d7b16a",
   "metadata": {},
   "outputs": [
    {
     "data": {
      "image/png": "[encoded data removed]",
      "text/plain": [
       "<Figure size 432x288 with 1 Axes>"
      ]
     },
     "metadata": {
      "needs_background": "light"
     },
     "output_type": "display_data"
    }
   ],
   "source": [
    "plt.figure(figsize=(6,4))\n",
    "plt.title('SIRD Model',fontsize=15)\n",
    "plt.plot(days, data['infected'],'.',markersize=10,c='r',label='Infected')\n",
    "plt.plot(days, data['Recovered'],'.',markersize=10,c='g',label='Recovered')\n",
    "plt.plot(days, data['Death'],'.',markersize=10,c='b',label='Deceased')\n",
    "plt.plot(m.y[1], '--',c='r',label='[extrapolated] I(t)')\n",
    "plt.plot(m.y[2], '--',c='g',label='[extrapolated] R(t)')\n",
    "plt.plot(m.y[3], '--',c='b',label='[extrapolated] D(t)')\n",
    "plt.plot(d.y[1],c='r',label='[fitted] I(t)')\n",
    "plt.plot(d.y[2],c='g',label='[fitted] R(t)')\n",
    "plt.plot(d.y[3],c='b',label='[fitted] D(t)')\n",
    "plt.yscale('log')\n",
    "plt.xlabel('Days', fontsize=14) \n",
    "plt.ylabel('Count', fontsize=14)\n",
    "plt.legend()\n",
    "plt.show()"
   ]
  },
  {
   "cell_type": "markdown",
   "id": "7cc55337",
   "metadata": {},
   "source": [
    "**Now define the initial points of different parameters of models. Now we are choosing example using SEIRD model to solve, fit and prediction.**"
   ]
  },
  {
   "cell_type": "code",
   "execution_count": 12,
   "id": "6e8482f4",
   "metadata": {},
   "outputs": [],
   "source": [
    "E0 = 3 * data.iloc[0]['infected']\n",
    "I0 = data.iloc[0]['infected']\n",
    "R0 = data.iloc[0]['Recovered']\n",
    "D0 = data.iloc[0]['Death']\n",
    "Y0={'N':N,'E0':E0,'I0':I0,'R0':R0,'D0':D0}\n",
    "#let's define the initial values and bounds of beta, sigma, gamma, delta\n",
    "starting_point = 0.01,0.01,0.01,0.01\n",
    "bounds = [(1e-5, 1.0),(1e-5, 1.0),(1e-5, 1.0),(1e-5, 1.0)]"
   ]
  },
  {
   "cell_type": "code",
   "execution_count": 13,
   "id": "bda18a6a",
   "metadata": {},
   "outputs": [
    {
     "name": "stdout",
     "output_type": "stream",
     "text": [
      "4\n",
      "INFO:root:L-BFGS-B optimization started: 2023-12-20 23:51:36.525034\n",
      "INFO:root:Elapsed time: 0.6901s\n",
      "SEIRD model normalized parameters \n",
      "------------------------------------ \n",
      "\n",
      "Parameter\tValue\n",
      "---------\t-----\n",
      "sigma\t    0.05753\n",
      "gamma\t    0.07583\n",
      "delta\t    0.00083\n",
      "beta \t    0.26162\n",
      "Rt   \t    3.41273\n",
      "------------------------------------ \n",
      "Thank you for using epitools!\n"
     ]
    }
   ],
   "source": [
    "L = Minimizer ('SEIRD')\n",
    "L.initialize  (starting_point,bounds,**Y0)\n",
    "optm = L.fit(data)\n",
    "params = [\"%.6f\" % x for x in L.params]\n",
    "#print(\"params [gamma,beta_0,alpha,mu,tl]:\",params,\"loss=\",\"%.3f\" % optm.fun)\n",
    "d = L.simulate()\n",
    "m = L.forecast(20)\n",
    "days=[int(i) for i in range(0, len(data))]\n",
    "L.get_params"
   ]
  },
  {
   "cell_type": "code",
   "execution_count": 14,
   "id": "f1bf2d05",
   "metadata": {},
   "outputs": [
    {
     "data": {
      "image/png": "[encoded data removed]",
      "text/plain": [
       "<Figure size 432x288 with 1 Axes>"
      ]
     },
     "metadata": {
      "needs_background": "light"
     },
     "output_type": "display_data"
    }
   ],
   "source": [
    "plt.figure(figsize=(6,4))\n",
    "plt.title('SEIRD Model',fontsize=15)\n",
    "plt.plot(days, data['infected'],'.',markersize=10,c='r',label='Infected')\n",
    "plt.plot(days, data['Recovered'],'.',markersize=10,c='g',label='Recovered')\n",
    "plt.plot(days, data['Death'],'.',markersize=10,c='b',label='Deceased')\n",
    "plt.plot(m.y[2], '--',c='r',label='[extrapolated] I(t)')\n",
    "plt.plot(m.y[3], '--',c='g',label='[extrapolated] R(t)')\n",
    "plt.plot(m.y[4], '--',c='b',label='[extrapolated] D(t)')\n",
    "plt.plot(d.y[2],c='r',label='[fitted] I(t)')\n",
    "plt.plot(d.y[3],c='g',label='[fitted] R(t)')\n",
    "plt.plot(d.y[4],c='b',label='[fitted] D(t)')\n",
    "plt.yscale('log')\n",
    "plt.xlabel('Days', fontsize=14) \n",
    "plt.ylabel('Count', fontsize=14)\n",
    "plt.legend()\n",
    "plt.show()"
   ]
  },
  {
   "cell_type": "markdown",
   "id": "b39703df",
   "metadata": {},
   "source": [
    "**As an epidemic evolves, various control measures are introduced, such as lockdown, social distancing, and improved hygiene, which causes** $\\beta$ **to become time-independent. The epidemiological model with constant transmission coefficients is only applicable to the situation when an epidemic is allowed to evolve without any interruption. In our paper we also modified the general epidemiological models using time-dependent contact rate** ($\\beta$) **models (exponential and tanh) to capture the transmission dynamics of a virus more precisely.**\n",
    "\n",
    "**For more details refer to:**\n",
    "\n",
    "https://doi.org/10.1016/j.envres.2022.113110\n",
    "\n",
    "https://doi.org/10.1007/s11071-021-07041-7\n",
    "\n",
    "**Available time-dependent $\\beta$ models:** polynomial, exponential, tanh \n",
    "\n",
    "Now we try an example with (epidemiological + time-dependent $\\beta$) model\n",
    "\n",
    "***Example-1:*** Fitting and prediction with (SIRD+Exponential) model\n",
    "\n",
    "**Now define the initial points of different parameters of models. Now we are choosing example using (SIRD+exp) model to solve, fit and prediction.**"
   ]
  },
  {
   "cell_type": "code",
   "execution_count": 15,
   "id": "24a37e55",
   "metadata": {},
   "outputs": [],
   "source": [
    "E0 = 3 * data.iloc[0]['infected']\n",
    "I0 = data.iloc[0]['infected']\n",
    "R0 = data.iloc[0]['Recovered']\n",
    "D0 = data.iloc[0]['Death']\n",
    "Y0={'N':N,'I0':I0,'R0':R0,'D0':D0}\n",
    "#let's define the initial values and bounds of gamma, delta, beta_0, alpha,mu,tl\n",
    "starting_point = 0.01,0.05,0.04,0.0,0.0,30\n",
    "bounds = [(1e-5, 1.0),(1e-5, 1.0),(1e-5, 1.0),(1e-5, 1.0),(1e-5, 1.0), (0, len(data))]"
   ]
  },
  {
   "cell_type": "code",
   "execution_count": 16,
   "id": "af823dc2",
   "metadata": {},
   "outputs": [
    {
     "name": "stdout",
     "output_type": "stream",
     "text": [
      "6\n",
      "INFO:root:L-BFGS-B optimization started: 2023-12-20 23:51:37.883061\n",
      "INFO:root:Elapsed time: 4.5675s\n",
      "SIRD+exp model normalized parameters \n",
      "------------------------------------ \n",
      "\n",
      "Parameter\tValue\n",
      "---------\t-----\n",
      "gamma\t    0.07631\n",
      "delta\t    0.00083\n",
      "beta_0\t    0.13871\n",
      "alpha\t    0.12213\n",
      "mu   \t    0.04203\n",
      "tl   \t   38.91308\n",
      "Rt   \t    1.21005\n",
      "------------------------------------ \n",
      "Thank you for using epitools!\n"
     ]
    }
   ],
   "source": [
    "L = Minimizer ('SIRD', 'exp')\n",
    "L.initialize  (starting_point,bounds,**Y0)\n",
    "optm = L.fit(data)\n",
    "params = [\"%.6f\" % x for x in L.params]\n",
    "#print(\"params [gamma,beta_0,alpha,mu,tl]:\",params,\"loss=\",\"%.3f\" % optm.fun)\n",
    "d = L.simulate()\n",
    "m = L.forecast(20)\n",
    "days=[int(i) for i in range(0, len(data))]\n",
    "L.get_params"
   ]
  },
  {
   "cell_type": "code",
   "execution_count": 17,
   "id": "81f16aca",
   "metadata": {},
   "outputs": [
    {
     "data": {
      "image/png": "[encoded data removed]",
      "text/plain": [
       "<Figure size 432x288 with 1 Axes>"
      ]
     },
     "metadata": {
      "needs_background": "light"
     },
     "output_type": "display_data"
    }
   ],
   "source": [
    "plt.figure(figsize=(6,4))\n",
    "plt.title('(SIRD+exp) Model',fontsize=15)\n",
    "plt.plot(days, data['infected'],'.',markersize=10,c='r',label='Infected')\n",
    "plt.plot(days, data['Recovered'],'.',markersize=10,c='g',label='Recovered')\n",
    "plt.plot(days, data['Death'],'.',markersize=10,c='b',label='Deceased')\n",
    "plt.plot(m.y[1], '--',c='r',label='[extrapolated] I(t)')\n",
    "plt.plot(m.y[2], '--',c='g',label='[extrapolated] R(t)')\n",
    "plt.plot(m.y[3], '--',c='b',label='[extrapolated] D(t)')\n",
    "plt.plot(d.y[1],c='r',label='[fitted] I(t)')\n",
    "plt.plot(d.y[2],c='g',label='[fitted] R(t)')\n",
    "plt.plot(d.y[3],c='b',label='[fitted] D(t)')\n",
    "plt.yscale('log')\n",
    "plt.xlabel('Days', fontsize=14) \n",
    "plt.ylabel('Count', fontsize=14)\n",
    "plt.legend()\n",
    "plt.show()"
   ]
  },
  {
   "cell_type": "markdown",
   "id": "1c083348",
   "metadata": {},
   "source": [
    "**Example-2:** Fitting and prediction with (SEIRD+tanh) model\n",
    "\n",
    "**Now define the initial points of different parameters of models. Now we are choosing example using (SEIRD+tanh) model to solve, fit and prediction.**"
   ]
  },
  {
   "cell_type": "code",
   "execution_count": 18,
   "id": "a7942670",
   "metadata": {},
   "outputs": [],
   "source": [
    "E0 = 0.1 * data.iloc[0]['infected']\n",
    "I0 = data.iloc[0]['infected']\n",
    "R0 = data.iloc[0]['Recovered']\n",
    "D0 = data.iloc[0]['Death']\n",
    "Y0={'N':N,'E0':E0,'I0':I0,'R0':R0,'D0':D0}\n",
    "#let's define the initial values and bounds sigma, gamma, delta, beta_0, alpha,mu,tl\n",
    "starting_point = 0.01,0.01,0.01,0.01,0.01,0.01,30\n",
    "bounds = [(1e-5, 1.0),(1e-5, 1.0),(1e-5, 1.0),(1e-5, 1.0),(1e-5, 1.0),(1e-5, 1.0), (0, len(data))]"
   ]
  },
  {
   "cell_type": "code",
   "execution_count": 19,
   "id": "b26c4864",
   "metadata": {},
   "outputs": [
    {
     "name": "stdout",
     "output_type": "stream",
     "text": [
      "7\n",
      "INFO:root:L-BFGS-B optimization started: 2023-12-20 23:51:43.318027\n",
      "INFO:root:Elapsed time: 17.6982s\n",
      "SEIRD+tanh model normalized parameters \n",
      "------------------------------------ \n",
      "\n",
      "Parameter\tValue\n",
      "---------\t-----\n",
      "sigma\t    0.44493\n",
      "gamma\t    0.07792\n",
      "delta\t    0.00085\n",
      "beta_0\t    0.16757\n",
      "alpha\t    1.00000\n",
      "mu   \t    0.03259\n",
      "tl   \t   34.89566\n",
      "Rt   \t    1.15730\n",
      "------------------------------------ \n",
      "Thank you for using epitools!\n"
     ]
    }
   ],
   "source": [
    "L = Minimizer ('SEIRD', 'tanh')\n",
    "L.initialize  (starting_point,bounds,**Y0)\n",
    "optm = L.fit(data)\n",
    "params = [\"%.6f\" % x for x in L.params]\n",
    "#print(\"params [gamma,beta_0,alpha,mu,tl]:\",params,\"loss=\",\"%.3f\" % optm.fun)\n",
    "d = L.simulate()\n",
    "m = L.forecast(20)\n",
    "days=[int(i) for i in range(0, len(data))]\n",
    "L.get_params"
   ]
  },
  {
   "cell_type": "code",
   "execution_count": 20,
   "id": "1cac7540",
   "metadata": {},
   "outputs": [
    {
     "data": {
      "image/png": "[encoded data removed]",
      "text/plain": [
       "<Figure size 432x288 with 1 Axes>"
      ]
     },
     "metadata": {
      "needs_background": "light"
     },
     "output_type": "display_data"
    }
   ],
   "source": [
    "plt.figure(figsize=(6,4))\n",
    "plt.title('(SEIRD+tanh) Model',fontsize=15)\n",
    "plt.plot(days, data['infected'],'.',markersize=10,c='r',label='Infected')\n",
    "plt.plot(days, data['Recovered'],'.',markersize=10,c='g',label='Recovered')\n",
    "plt.plot(days, data['Death'],'.',markersize=10,c='b',label='Deceased')\n",
    "plt.plot(m.y[2], '--',c='r',label='[extrapolated] I(t)')\n",
    "plt.plot(m.y[3], '--',c='g',label='[extrapolated] R(t)')\n",
    "plt.plot(m.y[4], '--',c='b',label='[extrapolated] D(t)')\n",
    "plt.plot(d.y[2],c='r',label='[fitted] I(t)')\n",
    "plt.plot(d.y[3],c='g',label='[fitted] R(t)')\n",
    "plt.plot(d.y[4],c='b',label='[fitted] D(t)')\n",
    "plt.yscale('log')\n",
    "plt.xlabel('Days', fontsize=14) \n",
    "plt.ylabel('Count', fontsize=14)\n",
    "plt.legend()\n",
    "plt.show()"
   ]
  }
 ],
 "metadata": {
  "kernelspec": {
   "display_name": "Python 3 (ipykernel)",
   "language": "python",
   "name": "python3"
  },
  "language_info": {
   "codemirror_mode": {
    "name": "ipython",
    "version": 3
   },
   "file_extension": ".py",
   "mimetype": "text/x-python",
   "name": "python",
   "nbconvert_exporter": "python",
   "pygments_lexer": "ipython3",
   "version": "3.9.12"
  }
 },
 "nbformat": 4,
 "nbformat_minor": 5
}
