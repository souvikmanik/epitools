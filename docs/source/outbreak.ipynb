{
 "cells": [
  {
   "cell_type": "markdown",
   "id": "979cd9f2",
   "metadata": {},
   "source": [
    "# Tutorial for Epidemic Outbreak Modeling & Prediction\n",
    "\n",
    "**Author:** Souvik Manik, Sabyasachi Pal, Manoj Mandal\n",
    "\n",
    "**Prerequisites:** Epitools, Numpy, Pandas, sklearn, matplotlib \n",
    "\n",
    "**Description:** Epidemic outbreak modelling can be done with ``EpiGrowthModel`` class of our ``Epitools``, as shown in the flowchart. In the initial stages of any epidemic the growth rate is likely exponential after some time it follows logistic curve now we will try to fit our data with different growth models (Exponential, logistic) in the following way:"
   ]
  },
  {
   "cell_type": "code",
   "execution_count": 2,
   "id": "7a9085b6",
   "metadata": {},
   "outputs": [],
   "source": [
    "#import essential libratries\n",
    "import pandas as pd \n",
    "from matplotlib import dates as mdates\n",
    "import matplotlib.pyplot as plt\n",
    "import numpy as np\n",
    "import pandas as pd\n",
    "from sklearn.metrics import r2_score\n",
    "from epitools.growth_models import EpiGrowthModel"
   ]
  },
  {
   "cell_type": "code",
   "execution_count": 8,
   "id": "f44584a1",
   "metadata": {},
   "outputs": [
    {
     "data": {
      "text/html": [
       "<div>\n",
       "<style scoped>\n",
       "    .dataframe tbody tr th:only-of-type {\n",
       "        vertical-align: middle;\n",
       "    }\n",
       "\n",
       "    .dataframe tbody tr th {\n",
       "        vertical-align: top;\n",
       "    }\n",
       "\n",
       "    .dataframe thead th {\n",
       "        text-align: right;\n",
       "    }\n",
       "</style>\n",
       "<table border=\"1\" class=\"dataframe\">\n",
       "  <thead>\n",
       "    <tr style=\"text-align: right;\">\n",
       "      <th></th>\n",
       "      <th>Unnamed: 0</th>\n",
       "      <th>date</th>\n",
       "      <th>Confirmed</th>\n",
       "      <th>Recovered</th>\n",
       "      <th>Death</th>\n",
       "    </tr>\n",
       "  </thead>\n",
       "  <tbody>\n",
       "    <tr>\n",
       "      <th>0</th>\n",
       "      <td>2021-02-01</td>\n",
       "      <td>2021-02-01</td>\n",
       "      <td>10766245</td>\n",
       "      <td>10448406</td>\n",
       "      <td>154486</td>\n",
       "    </tr>\n",
       "    <tr>\n",
       "      <th>1</th>\n",
       "      <td>2021-02-02</td>\n",
       "      <td>2021-02-02</td>\n",
       "      <td>10777284</td>\n",
       "      <td>10462631</td>\n",
       "      <td>154596</td>\n",
       "    </tr>\n",
       "    <tr>\n",
       "      <th>2</th>\n",
       "      <td>2021-02-03</td>\n",
       "      <td>2021-02-03</td>\n",
       "      <td>10790183</td>\n",
       "      <td>10480455</td>\n",
       "      <td>154703</td>\n",
       "    </tr>\n",
       "    <tr>\n",
       "      <th>3</th>\n",
       "      <td>2021-02-04</td>\n",
       "      <td>2021-02-04</td>\n",
       "      <td>10802591</td>\n",
       "      <td>10496308</td>\n",
       "      <td>154823</td>\n",
       "    </tr>\n",
       "  </tbody>\n",
       "</table>\n",
       "</div>"
      ],
      "text/plain": [
       "   Unnamed: 0        date  Confirmed  Recovered   Death\n",
       "0  2021-02-01  2021-02-01   10766245   10448406  154486\n",
       "1  2021-02-02  2021-02-02   10777284   10462631  154596\n",
       "2  2021-02-03  2021-02-03   10790183   10480455  154703\n",
       "3  2021-02-04  2021-02-04   10802591   10496308  154823"
      ]
     },
     "execution_count": 8,
     "metadata": {},
     "output_type": "execute_result"
    }
   ],
   "source": [
    "#read the epidemic data, here we are using a test data hosted on github\n",
    "df = pd.read_csv('https://raw.githubusercontent.com/souvikmanik/covid_data/main/india.csv')\n",
    "df.head(4)"
   ]
  },
  {
   "cell_type": "code",
   "execution_count": 10,
   "id": "2b05ac4a",
   "metadata": {},
   "outputs": [],
   "source": [
    "# derived data\n",
    "cum_positive = df.Confirmed.values\n",
    "y_train, y_test = cum_positive[:90], cum_positive[90:105]\n",
    "cum_positives1 = cum_positive[:190]"
   ]
  },
  {
   "cell_type": "markdown",
   "id": "361ce9bf",
   "metadata": {},
   "source": [
    "## 1. Initial outbreak modelling using Exponential function\n",
    "\n",
    "$$\n",
    "f(x) = a \\cdot e^{b x} + c\n",
    "$$"
   ]
  },
  {
   "cell_type": "code",
   "execution_count": 12,
   "id": "18b5002b",
   "metadata": {},
   "outputs": [
    {
     "name": "stdout",
     "output_type": "stream",
     "text": [
      "Exponetial function normalized parameters \n",
      "------------------------------------------ \n",
      "x ∈ [0, 1] and y ∈ [0, 1] where y=f(x) \n",
      "------------------------------------------\n",
      "Parameter\tValue\n",
      "a    \t    0.00554\n",
      "b    \t    5.21899\n",
      "c    \t    0.00567\n",
      "\n",
      "goodness-of-fit \n",
      "--------------- \n",
      "[fitted] RMSD = 68898.90399750575\n",
      "[fitted] R2 = 0.9990661431280201\n",
      "------------------------------------------ \n",
      "Thank you for using epitools!\n"
     ]
    }
   ],
   "source": [
    "model1 = EpiGrowthModel('exponential', normalize=True, calc_ci=True)\n",
    "model1.fit(y_train)\n",
    "x1, fitted1 = model1.get_fitted\n",
    "x_pred, y_pred = model1.predict(15)\n",
    "model1.fit_report"
   ]
  },
  {
   "cell_type": "markdown",
   "id": "8db8967b",
   "metadata": {},
   "source": [
    "## 2. Outbreak modelling using modified logistic growth model\n",
    "\n",
    "$$\n",
    "f(x) = \\frac{a}{1 + e^{-c \\cdot (x - d) + b}}\n",
    "$$"
   ]
  },
  {
   "cell_type": "code",
   "execution_count": 13,
   "id": "78327715",
   "metadata": {},
   "outputs": [
    {
     "name": "stdout",
     "output_type": "stream",
     "text": [
      "Logistic function normalized parameters \n",
      "------------------------------------------ \n",
      "x ∈ [0, 1] and y ∈ [0, 1] where y=f(x) \n",
      "------------------------------------------\n",
      "Parameter\tValue\n",
      "a    \t    0.95990\n",
      "b    \t    0.00332\n",
      "c    \t   13.35303\n",
      "d    \t    0.50663\n",
      "\n",
      "goodness-of-fit \n",
      "--------------- \n",
      "[fitted] RMSD = 256241.21984567365\n",
      "[fitted] R2 = 0.9990849305117291\n",
      "------------------------------------------ \n",
      "Thank you for using epitools!\n"
     ]
    }
   ],
   "source": [
    "model2 = EpiGrowthModel('logistic', normalize=True, calc_ci=True)\n",
    "model2.fit(cum_positives1)\n",
    "x2, fitted2 = model2.get_fitted\n",
    "model2.fit_report"
   ]
  },
  {
   "cell_type": "code",
   "execution_count": 16,
   "id": "d5400681",
   "metadata": {},
   "outputs": [
    {
     "data": {
      "text/plain": [
       "Text(0.5, 1.0, 'Fitting and prediction different outbreak models using epitools')"
      ]
     },
     "execution_count": 16,
     "metadata": {},
     "output_type": "execute_result"
    },
    {
     "data": {
      "image/png": "[encoded data removed]",
      "text/plain": [
       "<Figure size 432x288 with 1 Axes>"
      ]
     },
     "metadata": {
      "needs_background": "light"
     },
     "output_type": "display_data"
    }
   ],
   "source": [
    "plt.figure(figsize=(6,4))\n",
    "plt.plot(x2, cum_positives1, '.', markersize=8, color='orange', label='confirmed positive cases')\n",
    "plt.plot(x1, fitted1[1], '-.', color='green')\n",
    "plt.plot(x_pred, y_pred[1], '-.', color='green', label='Exponential')\n",
    "plt.plot(x2, fitted2[1], '-', color='red', label='Logistic')\n",
    "plt.legend()\n",
    "plt.xlabel('Days', fontsize=16)\n",
    "plt.ylabel('Counts', fontsize=16)\n",
    "plt.axhline(3.103e7, color='k',lw=0.9, linestyle='--')\n",
    "plt.text(25,3.14e7, 'asymptote', color='k',fontsize=13)\n",
    "plt.title('Fitting and prediction different outbreak models using epitools',fontsize=15)"
   ]
  }
 ],
 "metadata": {
  "kernelspec": {
   "display_name": "Python 3 (ipykernel)",
   "language": "python",
   "name": "python3"
  },
  "language_info": {
   "codemirror_mode": {
    "name": "ipython",
    "version": 3
   },
   "file_extension": ".py",
   "mimetype": "text/x-python",
   "name": "python",
   "nbconvert_exporter": "python",
   "pygments_lexer": "ipython3",
   "version": "3.9.12"
  }
 },
 "nbformat": 4,
 "nbformat_minor": 5
}
